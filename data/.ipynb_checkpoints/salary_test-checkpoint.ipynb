{
 "cells": [
  {
   "cell_type": "code",
   "execution_count": 2,
   "id": "recognized-bristol",
   "metadata": {},
   "outputs": [],
   "source": [
    "import numpy as np\n",
    "import pandas as pd\n",
    "import matplotlib.pyplot as plt\n",
    "import seaborn as sns\n",
    "from sklearn.linear_model import LinearRegression\n",
    "from sklearn.linear_model import Lasso\n",
    "from sklearn.metrics import mean_squared_error\n",
    "%matplotlib inline"
   ]
  },
  {
   "cell_type": "code",
   "execution_count": 3,
   "id": "charitable-circular",
   "metadata": {},
   "outputs": [],
   "source": [
    "from sklearn.model_selection import cross_val_score\n",
    "from sklearn.model_selection import GridSearchCV"
   ]
  },
  {
   "cell_type": "code",
   "execution_count": 4,
   "id": "freelance-assembly",
   "metadata": {},
   "outputs": [],
   "source": [
    "raw_features = pd.read_csv('test_features.csv')\n",
    "raw_target = pd.read_csv('train_salaries.csv')"
   ]
  },
  {
   "cell_type": "code",
   "execution_count": 62,
   "id": "violent-livestock",
   "metadata": {},
   "outputs": [],
   "source": [
    "from sklearn.model_selection import train_test_split\n",
    "from sklearn.feature_selection import SelectPercentile, SelectKBest, chi2, mutual_info_classif\n",
    "from sklearn.linear_model import LogisticRegression\n",
    "from sklearn.preprocessing import LabelEncoder, OrdinalEncoder"
   ]
  },
  {
   "cell_type": "code",
   "execution_count": 63,
   "id": "pediatric-exhibit",
   "metadata": {},
   "outputs": [
    {
     "name": "stdout",
     "output_type": "stream",
     "text": [
      "              jobId companyId  jobType       degree    major industry  \\\n",
      "0  JOB1362685407687    COMP33  MANAGER  HIGH_SCHOOL     NONE   HEALTH   \n",
      "1  JOB1362685407688    COMP13   JUNIOR         NONE     NONE     AUTO   \n",
      "2  JOB1362685407689    COMP10      CTO      MASTERS  BIOLOGY   HEALTH   \n",
      "3  JOB1362685407690    COMP21  MANAGER  HIGH_SCHOOL     NONE      OIL   \n",
      "4  JOB1362685407691    COMP36   JUNIOR     DOCTORAL  BIOLOGY      OIL   \n",
      "\n",
      "   yearsExperience  milesFromMetropolis  \n",
      "0               22                   73  \n",
      "1               20                   47  \n",
      "2               17                    9  \n",
      "3               14                   96  \n",
      "4               10                   44  \n",
      "              jobId  salary\n",
      "0  JOB1362684407687     130\n",
      "1  JOB1362684407688     101\n",
      "2  JOB1362684407689     137\n",
      "3  JOB1362684407690     142\n",
      "4  JOB1362684407691     163\n"
     ]
    }
   ],
   "source": [
    "features = raw_features.copy()\n",
    "target = raw_target.copy()\n",
    "print(features.head())\n",
    "print(target.head())"
   ]
  },
  {
   "cell_type": "code",
   "execution_count": 58,
   "id": "detailed-installation",
   "metadata": {},
   "outputs": [],
   "source": [
    "def input_transform(X_train, X_test):\n",
    "    or_trans = OrdinalEncoder()\n",
    "    or_trans.fit(X_train)\n",
    "    X_train_enc = or_trans.transform(X_train)\n",
    "    X_test_enc = or_trans.transform(X_test)\n",
    "    return X_train_enc, X_test_enc\n",
    "\n",
    "def target_transform(y_train, y_test):\n",
    "    le = LabelEncoder()\n",
    "    le.fit(y_train)\n",
    "    y_train_enc = le.transform(y_train)\n",
    "    y_test_enc = le.transform(y_test)\n",
    "    return y_train_enc, y_test_enc\n",
    "\n",
    "def select_k_features(X_train, X_test, y_train):\n",
    "    select = SelectKBest(k='all')\n",
    "    select.fit(X_train, y_train)\n",
    "    X_train_f = select.transform(X_train)\n",
    "    X_test_f = select.transform(X_test)\n",
    "    return X_train_f, X_test_f, select\n",
    "\n",
    "def select_feature_percentile(X_train, X_test, y_train):\n",
    "    percent = SelectPercentile(percentile=50)\n",
    "    percent.fit(X_train, y_train)\n",
    "    X_train_tile = percent.transform(X_train)\n",
    "    X_test_tile = percent.transform(X_test)\n",
    "    tile_index = percent.get_support()\n",
    "    return X_train_tile, X_test_tile, tile_index\n",
    "    "
   ]
  },
  {
   "cell_type": "code",
   "execution_count": 37,
   "id": "serious-brief",
   "metadata": {},
   "outputs": [
    {
     "name": "stdout",
     "output_type": "stream",
     "text": [
      "Features 0: 0.928840\n",
      "Features 1: 1.112845\n",
      "Features 2: 1.030807\n",
      "Features 3: 1.152510\n"
     ]
    },
    {
     "data": {
      "image/png": "[encoded data removed]",
      "text/plain": [
       "<Figure size 432x288 with 1 Axes>"
      ]
     },
     "metadata": {
      "needs_background": "light"
     },
     "output_type": "display_data"
    }
   ],
   "source": [
    "X = features.iloc[:, 2:6]\n",
    "y = target.iloc[:,-1]\n",
    "\n",
    "X_train, X_test, y_train, y_test = train_test_split(X, y, test_size=0.2, random_state=1)\n",
    "X_train_enc, X_test_enc = input_transform(X_train, X_test)\n",
    "y_train_enc, y_test_enc = target_transform(y_train, y_test)\n",
    "\n",
    "X_train_f, X_test_f, select = select_k_features(X_train_enc, X_test_enc, y_train_enc)\n",
    "\n",
    "for i in range(len(select.scores_)):\n",
    "    print('Features %d: %f'%(i, select.scores_[i]))\n",
    "    \n",
    "plt.bar([i for i in range(len(select.scores_))], select.scores_)\n",
    "plt.show()"
   ]
  },
  {
   "cell_type": "code",
   "execution_count": 61,
   "id": "formed-talent",
   "metadata": {},
   "outputs": [
    {
     "name": "stdout",
     "output_type": "stream",
     "text": [
      "Features 0: 388.679359\n",
      "Features 1: 289.179748\n",
      "Features 2: 304.558593\n",
      "Features 3: 428.061313\n"
     ]
    },
    {
     "data": {
      "image/png": "[encoded data removed]",
      "text/plain": [
       "<Figure size 432x288 with 1 Axes>"
      ]
     },
     "metadata": {
      "needs_background": "light"
     },
     "output_type": "display_data"
    }
   ],
   "source": [
    "#X_train_chi, X_test_chi, select_chi = select_k_features_chi(X_train_enc, X_test_enc, y_train_enc)\n",
    "def select_k_features_chi(X_train, X_test, y_train):\n",
    "    select_chi = SelectKBest(chi2, k=3)\n",
    "    select_chi.fit(X_train, y_train)\n",
    "    X_train_chi = select_chi.transform(X_train)\n",
    "    X_test_chi = select_chi.transform(X_test)\n",
    "    return X_train_chi, X_test_chi, select_chi\n",
    "\n",
    "X_train_chi, X_test_chi, select_chi = select_k_features_chi(X_train_enc, X_test_enc, y_train_enc)\n",
    "\n",
    "for i in range(len(select_chi.scores_)):\n",
    "    print('Features %d: %f'%(i, select_chi.scores_[i]))\n",
    "    \n",
    "plt.bar([i for i in range(len(select_chi.scores_))], select_chi.scores_)\n",
    "plt.show()"
   ]
  },
  {
   "cell_type": "code",
   "execution_count": 59,
   "id": "corrected-addiction",
   "metadata": {},
   "outputs": [
    {
     "name": "stdout",
     "output_type": "stream",
     "text": [
      "[False  True False  True]\n"
     ]
    },
    {
     "data": {
      "text/plain": [
       "Text(0.5, 0, 'Sample index')"
      ]
     },
     "execution_count": 59,
     "metadata": {},
     "output_type": "execute_result"
    },
    {
     "data": {
      "image/png": "[encoded data removed]",
      "text/plain": [
       "<Figure size 1152x288 with 1 Axes>"
      ]
     },
     "metadata": {
      "needs_background": "light"
     },
     "output_type": "display_data"
    }
   ],
   "source": [
    "X_train_tile, X_test_tile, tile_index = select_feature_percentile(X_train_enc, X_test_enc, y_train_enc)\n",
    "print(tile_index)\n",
    "plt.matshow(tile_index.reshape(1, -1), cmap='gray_r')\n",
    "plt.xlabel(\"Sample index\")"
   ]
  },
  {
   "cell_type": "code",
   "execution_count": 60,
   "id": "bound-kernel",
   "metadata": {},
   "outputs": [
    {
     "name": "stdout",
     "output_type": "stream",
     "text": [
      "[ True False False  True]\n"
     ]
    },
    {
     "data": {
      "text/plain": [
       "Text(0.5, 0, 'Sample index')"
      ]
     },
     "execution_count": 60,
     "metadata": {},
     "output_type": "execute_result"
    },
    {
     "data": {
      "image/png": "[encoded data removed]",
      "text/plain": [
       "<Figure size 1152x288 with 1 Axes>"
      ]
     },
     "metadata": {
      "needs_background": "light"
     },
     "output_type": "display_data"
    }
   ],
   "source": [
    "def select_feature_percentile_chi(X_train, X_test, y_train):\n",
    "    percent_chi = SelectPercentile(chi2, percentile=50)\n",
    "    percent_chi.fit(X_train, y_train)\n",
    "    X_train_tile_chi = percent_chi.transform(X_train)\n",
    "    X_test_tile_chi = percent_chi.transform(X_test)\n",
    "    tile_index_chi = percent_chi.get_support()\n",
    "    return X_train_tile_chi, X_test_tile_chi, tile_index_chi\n",
    "\n",
    "X_train_tile_chi, X_test_tile_chi, tile_index_chi = select_feature_percentile_chi(X_train_enc, X_test_enc, y_train_enc)\n",
    "print(tile_index_chi)\n",
    "plt.matshow(tile_index_chi.reshape(1, -1), cmap='gray_r')\n",
    "plt.xlabel(\"Sample index\")"
   ]
  },
  {
   "cell_type": "code",
   "execution_count": 64,
   "id": "interpreted-anthony",
   "metadata": {},
   "outputs": [
    {
     "name": "stdout",
     "output_type": "stream",
     "text": [
      "Features 0: 0.001259\n",
      "Features 1: 0.000891\n",
      "Features 2: 0.002483\n",
      "Features 3: 0.000000\n"
     ]
    },
    {
     "data": {
      "image/png": "[encoded data removed]",
      "text/plain": [
       "<Figure size 432x288 with 1 Axes>"
      ]
     },
     "metadata": {
      "needs_background": "light"
     },
     "output_type": "display_data"
    }
   ],
   "source": [
    "def select_k_features_classif(X_train, X_test, y_train):\n",
    "    select_classif = SelectKBest(mutual_info_classif, k='all')\n",
    "    select_classif.fit(X_train, y_train)\n",
    "    X_train_classif = select_classif.transform(X_train)\n",
    "    X_test_classif = select_classif.transform(X_test)\n",
    "    return X_train_classif, X_test_classif, select_classif\n",
    "\n",
    "X_train_classif, X_test_classif, select_classif = select_k_features_classif(X_train_enc, X_test_enc, y_train_enc)\n",
    "for i in range(len(select_classif.scores_)):\n",
    "    print('Features %d: %f'%(i, select_classif.scores_[i]))\n",
    "    \n",
    "plt.bar([i for i in range(len(select_classif.scores_))], select_classif.scores_)\n",
    "plt.show()"
   ]
  },
  {
   "cell_type": "code",
   "execution_count": 67,
   "id": "cardiac-secondary",
   "metadata": {},
   "outputs": [
    {
     "name": "stdout",
     "output_type": "stream",
     "text": [
      "1498.8184009234515\n"
     ]
    }
   ],
   "source": [
    "model2 = LinearRegression()\n",
    "model2.fit(X_train_enc, y_train_enc)\n",
    "yhat2 = model2.predict(X_test_enc)\n",
    "mse = mean_squared_error(y_test_enc, yhat2)\n",
    "print(mse)"
   ]
  },
  {
   "cell_type": "code",
   "execution_count": 69,
   "id": "limiting-series",
   "metadata": {},
   "outputs": [
    {
     "name": "stdout",
     "output_type": "stream",
     "text": [
      "1498.8184009234515\n"
     ]
    }
   ],
   "source": [
    "model3 = LinearRegression()\n",
    "model3.fit(X_train_f, y_train_enc)\n",
    "yhat_f = model3.predict(X_test_f)\n",
    "mse_f = mean_squared_error(y_test_enc, yhat_f)\n",
    "print(mse_f)"
   ]
  },
  {
   "cell_type": "code",
   "execution_count": 72,
   "id": "stuck-graduation",
   "metadata": {},
   "outputs": [
    {
     "name": "stdout",
     "output_type": "stream",
     "text": [
      "1498.8123242537972\n"
     ]
    }
   ],
   "source": [
    "model4 = LinearRegression()\n",
    "model4.fit(X_train_chi, y_train_enc)\n",
    "yhat_chi = model4.predict(X_test_chi)\n",
    "mse_chi = mean_squared_error(y_test_enc, yhat_chi)\n",
    "print(mse_chi)"
   ]
  },
  {
   "cell_type": "code",
   "execution_count": 73,
   "id": "hazardous-disclaimer",
   "metadata": {},
   "outputs": [
    {
     "name": "stdout",
     "output_type": "stream",
     "text": [
      "1498.8120797385793\n"
     ]
    }
   ],
   "source": [
    "# the best performance, select percentile with chi \n",
    "\n",
    "model5 = LinearRegression()\n",
    "model5.fit(X_train_tile_chi, y_train_enc)\n",
    "yhat_tile = model5.predict(X_test_tile_chi)\n",
    "mse_tile = mean_squared_error(y_test_enc, yhat_tile)\n",
    "print(mse_tile)"
   ]
  },
  {
   "cell_type": "code",
   "execution_count": 79,
   "id": "civilian-textbook",
   "metadata": {},
   "outputs": [
    {
     "data": {
      "text/plain": [
       "array(['jobType', 'degree', 'major', 'industry'], dtype=object)"
      ]
     },
     "execution_count": 79,
     "metadata": {},
     "output_type": "execute_result"
    }
   ],
   "source": [
    "features.columns.values[2:6]"
   ]
  },
  {
   "cell_type": "code",
   "execution_count": 127,
   "id": "improving-affairs",
   "metadata": {},
   "outputs": [],
   "source": [
    "#from sklearn.preprocessing import OneHotEncoder\n",
    "\n",
    "job = pd.get_dummies(features['jobType'])\n",
    "degree = pd.get_dummies(features['degree'])\n",
    "major = pd.get_dummies(features['major'])\n",
    "industry = pd.get_dummies(features['industry'])"
   ]
  },
  {
   "cell_type": "code",
   "execution_count": 128,
   "id": "quiet-perth",
   "metadata": {},
   "outputs": [],
   "source": [
    "def select_sub_k(X, y):\n",
    "    select = SelectKBest(chi2, k='all')\n",
    "    select.fit(X, y)\n",
    "    X_sub_f = select.transform(X)\n",
    "    return X_sub_f, select"
   ]
  },
  {
   "cell_type": "code",
   "execution_count": 99,
   "id": "fifth-trustee",
   "metadata": {},
   "outputs": [
    {
     "data": {
      "text/plain": [
       "[130, 101, 137, 142, 163]"
      ]
     },
     "execution_count": 99,
     "metadata": {},
     "output_type": "execute_result"
    }
   ],
   "source": [
    "target.salary.head().tolist()"
   ]
  },
  {
   "cell_type": "code",
   "execution_count": 129,
   "id": "australian-scheduling",
   "metadata": {},
   "outputs": [
    {
     "name": "stdout",
     "output_type": "stream",
     "text": [
      "Features 0: 236.648749\n",
      "Features 1: 259.298277\n",
      "Features 2: 246.352969\n",
      "Features 3: 227.352065\n",
      "Features 4: 243.474423\n",
      "Features 5: 233.958369\n",
      "Features 6: 241.249004\n",
      "Features 7: 221.307542\n"
     ]
    },
    {
     "data": {
      "image/png": "[encoded data removed]",
      "text/plain": [
       "<Figure size 432x288 with 1 Axes>"
      ]
     },
     "metadata": {
      "needs_background": "light"
     },
     "output_type": "display_data"
    }
   ],
   "source": [
    "# job with salary score\n",
    "\n",
    "job_sub_f, select = select_sub_k(job, y)\n",
    "\n",
    "for i in range(len(select.scores_)):\n",
    "    print('Features %d: %f'%(i, select.scores_[i]))\n",
    "    \n",
    "plt.bar([i for i in range(len(select.scores_))], select.scores_)\n",
    "plt.show()"
   ]
  },
  {
   "cell_type": "code",
   "execution_count": 130,
   "id": "floating-notebook",
   "metadata": {},
   "outputs": [
    {
     "data": {
      "text/plain": [
       "array(['CFO', 'CTO', 'JUNIOR', 'SENIOR'], dtype=object)"
      ]
     },
     "execution_count": 130,
     "metadata": {},
     "output_type": "execute_result"
    }
   ],
   "source": [
    "job.iloc[:, select.scores_> select.scores_.mean()].columns.values"
   ]
  },
  {
   "cell_type": "code",
   "execution_count": 131,
   "id": "collective-tribe",
   "metadata": {},
   "outputs": [
    {
     "data": {
      "text/plain": [
       "array(['CEO', 'CFO', 'CTO', 'JANITOR', 'JUNIOR', 'MANAGER', 'SENIOR',\n",
       "       'VICE_PRESIDENT'], dtype=object)"
      ]
     },
     "execution_count": 131,
     "metadata": {},
     "output_type": "execute_result"
    }
   ],
   "source": [
    "job.columns.values"
   ]
  },
  {
   "cell_type": "code",
   "execution_count": 132,
   "id": "inappropriate-symphony",
   "metadata": {},
   "outputs": [
    {
     "name": "stdout",
     "output_type": "stream",
     "text": [
      "Features 0: 226.738438\n",
      "Features 1: 239.493070\n",
      "Features 2: 203.037844\n",
      "Features 3: 254.939714\n",
      "Features 4: 216.778458\n"
     ]
    },
    {
     "data": {
      "image/png": "[encoded data removed]",
      "text/plain": [
       "<Figure size 432x288 with 1 Axes>"
      ]
     },
     "metadata": {
      "needs_background": "light"
     },
     "output_type": "display_data"
    }
   ],
   "source": [
    "# degree with salary score\n",
    "\n",
    "degree_sub_f, select = select_sub_k(degree, y)\n",
    "\n",
    "for i in range(len(select.scores_)):\n",
    "    print('Features %d: %f'%(i, select.scores_[i]))\n",
    "    \n",
    "plt.bar([i for i in range(len(select.scores_))], select.scores_)\n",
    "plt.show()"
   ]
  },
  {
   "cell_type": "code",
   "execution_count": 133,
   "id": "departmental-bookmark",
   "metadata": {},
   "outputs": [
    {
     "data": {
      "text/plain": [
       "array(['DOCTORAL', 'MASTERS'], dtype=object)"
      ]
     },
     "execution_count": 133,
     "metadata": {},
     "output_type": "execute_result"
    }
   ],
   "source": [
    "degree.iloc[:, select.scores_ > select.scores_.mean()].columns.values"
   ]
  },
  {
   "cell_type": "code",
   "execution_count": 134,
   "id": "great-light",
   "metadata": {},
   "outputs": [
    {
     "data": {
      "text/plain": [
       "array(['BACHELORS', 'DOCTORAL', 'HIGH_SCHOOL', 'MASTERS', 'NONE'],\n",
       "      dtype=object)"
      ]
     },
     "execution_count": 134,
     "metadata": {},
     "output_type": "execute_result"
    }
   ],
   "source": [
    "degree.columns.values"
   ]
  },
  {
   "cell_type": "code",
   "execution_count": 135,
   "id": "early-vulnerability",
   "metadata": {},
   "outputs": [
    {
     "name": "stdout",
     "output_type": "stream",
     "text": [
      "Features 0: 235.597983\n",
      "Features 1: 262.670099\n",
      "Features 2: 269.992176\n",
      "Features 3: 252.033059\n",
      "Features 4: 314.506495\n",
      "Features 5: 248.135536\n",
      "Features 6: 293.788698\n",
      "Features 7: 143.413736\n",
      "Features 8: 196.006323\n"
     ]
    },
    {
     "data": {
      "image/png": "[encoded data removed]",
      "text/plain": [
       "<Figure size 432x288 with 1 Axes>"
      ]
     },
     "metadata": {
      "needs_background": "light"
     },
     "output_type": "display_data"
    }
   ],
   "source": [
    "# major with salary score\n",
    "\n",
    "major_sub_f, select = select_sub_k(major, y)\n",
    "\n",
    "for i in range(len(select.scores_)):\n",
    "    print('Features %d: %f'%(i, select.scores_[i]))\n",
    "    \n",
    "plt.bar([i for i in range(len(select.scores_))], select.scores_)\n",
    "plt.show()"
   ]
  },
  {
   "cell_type": "code",
   "execution_count": 136,
   "id": "pointed-suicide",
   "metadata": {},
   "outputs": [
    {
     "data": {
      "text/plain": [
       "array(['BUSINESS', 'CHEMISTRY', 'COMPSCI', 'ENGINEERING', 'LITERATURE',\n",
       "       'MATH'], dtype=object)"
      ]
     },
     "execution_count": 136,
     "metadata": {},
     "output_type": "execute_result"
    }
   ],
   "source": [
    "major.iloc[:, select.scores_> select.scores_.mean()].columns.values"
   ]
  },
  {
   "cell_type": "code",
   "execution_count": 137,
   "id": "posted-passage",
   "metadata": {},
   "outputs": [
    {
     "data": {
      "text/plain": [
       "array(['BIOLOGY', 'BUSINESS', 'CHEMISTRY', 'COMPSCI', 'ENGINEERING',\n",
       "       'LITERATURE', 'MATH', 'NONE', 'PHYSICS'], dtype=object)"
      ]
     },
     "execution_count": 137,
     "metadata": {},
     "output_type": "execute_result"
    }
   ],
   "source": [
    "major.columns.values"
   ]
  },
  {
   "cell_type": "code",
   "execution_count": 138,
   "id": "oriental-irish",
   "metadata": {},
   "outputs": [
    {
     "name": "stdout",
     "output_type": "stream",
     "text": [
      "Features 0: 224.676775\n",
      "Features 1: 248.345229\n",
      "Features 2: 244.654929\n",
      "Features 3: 250.021720\n",
      "Features 4: 264.913856\n",
      "Features 5: 237.766696\n",
      "Features 6: 234.376502\n"
     ]
    },
    {
     "data": {
      "image/png": "[encoded data removed]",
      "text/plain": [
       "<Figure size 432x288 with 1 Axes>"
      ]
     },
     "metadata": {
      "needs_background": "light"
     },
     "output_type": "display_data"
    }
   ],
   "source": [
    "# industry with salary score\n",
    "\n",
    "industry_sub_f, select = select_sub_k(industry, y)\n",
    "\n",
    "for i in range(len(select.scores_)):\n",
    "    print('Features %d: %f'%(i, select.scores_[i]))\n",
    "    \n",
    "plt.bar([i for i in range(len(select.scores_))], select.scores_)\n",
    "plt.show()"
   ]
  },
  {
   "cell_type": "code",
   "execution_count": 139,
   "id": "pleased-flash",
   "metadata": {},
   "outputs": [
    {
     "data": {
      "text/plain": [
       "array(['EDUCATION', 'FINANCE', 'HEALTH', 'OIL'], dtype=object)"
      ]
     },
     "execution_count": 139,
     "metadata": {},
     "output_type": "execute_result"
    }
   ],
   "source": [
    "industry.iloc[:, select.scores_ > select.scores_.mean()].columns.values"
   ]
  },
  {
   "cell_type": "code",
   "execution_count": 140,
   "id": "computational-green",
   "metadata": {},
   "outputs": [
    {
     "data": {
      "text/plain": [
       "array(['AUTO', 'EDUCATION', 'FINANCE', 'HEALTH', 'OIL', 'SERVICE', 'WEB'],\n",
       "      dtype=object)"
      ]
     },
     "execution_count": 140,
     "metadata": {},
     "output_type": "execute_result"
    }
   ],
   "source": [
    "industry.columns.values"
   ]
  },
  {
   "cell_type": "code",
   "execution_count": 142,
   "id": "executed-hayes",
   "metadata": {},
   "outputs": [],
   "source": [
    "job['above_avg'] = job[['CFO', 'CTO', 'JUNIOR', 'SENIOR']].sum(axis=1)\n",
    "degree['above_avg'] = degree[['DOCTORAL', 'MASTERS']].sum(axis=1)\n",
    "major['above_avg'] = major[['BUSINESS', 'CHEMISTRY', 'COMPSCI', 'ENGINEERING', 'LITERATURE', 'MATH']].sum(axis=1)\n",
    "industry['above_avg'] = industry[['EDUCATION', 'FINANCE', 'HEALTH', 'OIL']].sum(axis=1)"
   ]
  },
  {
   "cell_type": "code",
   "execution_count": 146,
   "id": "grand-situation",
   "metadata": {},
   "outputs": [
    {
     "data": {
      "text/html": [
       "<div>\n",
       "<style scoped>\n",
       "    .dataframe tbody tr th:only-of-type {\n",
       "        vertical-align: middle;\n",
       "    }\n",
       "\n",
       "    .dataframe tbody tr th {\n",
       "        vertical-align: top;\n",
       "    }\n",
       "\n",
       "    .dataframe thead th {\n",
       "        text-align: right;\n",
       "    }\n",
       "</style>\n",
       "<table border=\"1\" class=\"dataframe\">\n",
       "  <thead>\n",
       "    <tr style=\"text-align: right;\">\n",
       "      <th></th>\n",
       "      <th>above_avg</th>\n",
       "      <th>above_avg</th>\n",
       "      <th>above_avg</th>\n",
       "      <th>above_avg</th>\n",
       "    </tr>\n",
       "  </thead>\n",
       "  <tbody>\n",
       "    <tr>\n",
       "      <th>0</th>\n",
       "      <td>0</td>\n",
       "      <td>0</td>\n",
       "      <td>0</td>\n",
       "      <td>1</td>\n",
       "    </tr>\n",
       "    <tr>\n",
       "      <th>1</th>\n",
       "      <td>1</td>\n",
       "      <td>0</td>\n",
       "      <td>0</td>\n",
       "      <td>0</td>\n",
       "    </tr>\n",
       "    <tr>\n",
       "      <th>2</th>\n",
       "      <td>1</td>\n",
       "      <td>1</td>\n",
       "      <td>0</td>\n",
       "      <td>1</td>\n",
       "    </tr>\n",
       "    <tr>\n",
       "      <th>3</th>\n",
       "      <td>0</td>\n",
       "      <td>0</td>\n",
       "      <td>0</td>\n",
       "      <td>1</td>\n",
       "    </tr>\n",
       "    <tr>\n",
       "      <th>4</th>\n",
       "      <td>1</td>\n",
       "      <td>1</td>\n",
       "      <td>0</td>\n",
       "      <td>1</td>\n",
       "    </tr>\n",
       "  </tbody>\n",
       "</table>\n",
       "</div>"
      ],
      "text/plain": [
       "   above_avg  above_avg  above_avg  above_avg\n",
       "0          0          0          0          1\n",
       "1          1          0          0          0\n",
       "2          1          1          0          1\n",
       "3          0          0          0          1\n",
       "4          1          1          0          1"
      ]
     },
     "execution_count": 146,
     "metadata": {},
     "output_type": "execute_result"
    }
   ],
   "source": [
    "sum_features = pd.concat([job['above_avg'], degree['above_avg'], major['above_avg'], industry['above_avg']], axis=1)\n",
    "sum_features.head()"
   ]
  },
  {
   "cell_type": "code",
   "execution_count": 147,
   "id": "multiple-saver",
   "metadata": {},
   "outputs": [
    {
     "name": "stdout",
     "output_type": "stream",
     "text": [
      "[False  True  True False]\n"
     ]
    },
    {
     "data": {
      "text/plain": [
       "Text(0.5, 0, 'Sample index')"
      ]
     },
     "execution_count": 147,
     "metadata": {},
     "output_type": "execute_result"
    },
    {
     "data": {
      "image/png": "[encoded data removed]",
      "text/plain": [
       "<Figure size 1152x288 with 1 Axes>"
      ]
     },
     "metadata": {
      "needs_background": "light"
     },
     "output_type": "display_data"
    }
   ],
   "source": [
    "def select_feature_percentile_chi(X_train, X_test, y_train):\n",
    "    percent_chi = SelectPercentile(chi2, percentile=50)\n",
    "    percent_chi.fit(X_train, y_train)\n",
    "    X_train_tile_chi = percent_chi.transform(X_train)\n",
    "    X_test_tile_chi = percent_chi.transform(X_test)\n",
    "    tile_index_chi = percent_chi.get_support()\n",
    "    return X_train_tile_chi, X_test_tile_chi, tile_index_chi\n",
    "\n",
    "X_sum_train, X_sum_test, y_train, y_test = train_test_split(sum_features, y, test_size=0.2, random_state=1)\n",
    "\n",
    "X_sum_train_tile, X_sum_test_tile, tile_index_chi = select_feature_percentile_chi(X_sum_train, X_sum_test, y_train)\n",
    "print(tile_index_chi)\n",
    "plt.matshow(tile_index_chi.reshape(1, -1), cmap='gray_r')\n",
    "plt.xlabel(\"Sample index\")"
   ]
  },
  {
   "cell_type": "code",
   "execution_count": 152,
   "id": "active-accommodation",
   "metadata": {},
   "outputs": [
    {
     "name": "stdout",
     "output_type": "stream",
     "text": [
      "1498.8127109361167\n"
     ]
    }
   ],
   "source": [
    "model6 = LinearRegression()\n",
    "model6.fit(X_sum_train_tile, y_train_enc)\n",
    "yhat_sum_tile = model6.predict(X_sum_test_tile)\n",
    "mse_sum_tile = mean_squared_error(y_test_enc, yhat_sum_tile)\n",
    "print(mse_sum_tile)"
   ]
  },
  {
   "cell_type": "code",
   "execution_count": 159,
   "id": "noted-welcome",
   "metadata": {},
   "outputs": [],
   "source": [
    "job['below_avg'] = job[['CEO','JANITOR', 'MANAGER', 'VICE_PRESIDENT']].sum(axis=1)\n",
    "degree['below_avg'] = degree[['BACHELORS', 'HIGH_SCHOOL', 'NONE']].sum(axis=1)\n",
    "major['below_avg'] = major[['BIOLOGY', 'NONE', 'PHYSICS']].sum(axis=1)\n",
    "industry['below_avg'] = industry[['AUTO','SERVICE', 'WEB']].sum(axis=1)"
   ]
  },
  {
   "cell_type": "code",
   "execution_count": 165,
   "id": "fifth-bunny",
   "metadata": {},
   "outputs": [],
   "source": [
    "job = job.drop(['CEO','JANITOR', 'MANAGER', 'VICE_PRESIDENT', 'above_avg'], axis=1)\n",
    "degree = degree.drop(['BACHELORS', 'HIGH_SCHOOL', 'NONE', 'above_avg'], axis=1)\n",
    "major = major.drop(['BIOLOGY', 'NONE', 'PHYSICS', 'above_avg'], axis=1)\n",
    "industry = industry.drop(['AUTO','SERVICE', 'WEB', 'above_avg'], axis=1)"
   ]
  },
  {
   "cell_type": "code",
   "execution_count": 169,
   "id": "wrapped-screen",
   "metadata": {},
   "outputs": [],
   "source": [
    "job = job.rename(columns={'below_avg':'below_job_avg'})\n",
    "degree = degree.rename(columns={'below_avg':'below_degree_avg'})\n",
    "major = major.rename(columns={'below_avg':'below_major_avg'})\n",
    "industry = industry.rename(columns={'below_avg':'below_industry_avg'})"
   ]
  },
  {
   "cell_type": "code",
   "execution_count": 170,
   "id": "chronic-xerox",
   "metadata": {},
   "outputs": [
    {
     "data": {
      "text/html": [
       "<div>\n",
       "<style scoped>\n",
       "    .dataframe tbody tr th:only-of-type {\n",
       "        vertical-align: middle;\n",
       "    }\n",
       "\n",
       "    .dataframe tbody tr th {\n",
       "        vertical-align: top;\n",
       "    }\n",
       "\n",
       "    .dataframe thead th {\n",
       "        text-align: right;\n",
       "    }\n",
       "</style>\n",
       "<table border=\"1\" class=\"dataframe\">\n",
       "  <thead>\n",
       "    <tr style=\"text-align: right;\">\n",
       "      <th></th>\n",
       "      <th>CFO</th>\n",
       "      <th>CTO</th>\n",
       "      <th>JUNIOR</th>\n",
       "      <th>SENIOR</th>\n",
       "      <th>below_job_avg</th>\n",
       "      <th>DOCTORAL</th>\n",
       "      <th>MASTERS</th>\n",
       "      <th>below_degree_avg</th>\n",
       "      <th>BUSINESS</th>\n",
       "      <th>CHEMISTRY</th>\n",
       "      <th>COMPSCI</th>\n",
       "      <th>ENGINEERING</th>\n",
       "      <th>LITERATURE</th>\n",
       "      <th>MATH</th>\n",
       "      <th>below_major_avg</th>\n",
       "      <th>EDUCATION</th>\n",
       "      <th>FINANCE</th>\n",
       "      <th>HEALTH</th>\n",
       "      <th>OIL</th>\n",
       "      <th>below_industry_avg</th>\n",
       "    </tr>\n",
       "  </thead>\n",
       "  <tbody>\n",
       "    <tr>\n",
       "      <th>0</th>\n",
       "      <td>0</td>\n",
       "      <td>0</td>\n",
       "      <td>0</td>\n",
       "      <td>0</td>\n",
       "      <td>1</td>\n",
       "      <td>0</td>\n",
       "      <td>0</td>\n",
       "      <td>1</td>\n",
       "      <td>0</td>\n",
       "      <td>0</td>\n",
       "      <td>0</td>\n",
       "      <td>0</td>\n",
       "      <td>0</td>\n",
       "      <td>0</td>\n",
       "      <td>1</td>\n",
       "      <td>0</td>\n",
       "      <td>0</td>\n",
       "      <td>1</td>\n",
       "      <td>0</td>\n",
       "      <td>0</td>\n",
       "    </tr>\n",
       "    <tr>\n",
       "      <th>1</th>\n",
       "      <td>0</td>\n",
       "      <td>0</td>\n",
       "      <td>1</td>\n",
       "      <td>0</td>\n",
       "      <td>0</td>\n",
       "      <td>0</td>\n",
       "      <td>0</td>\n",
       "      <td>1</td>\n",
       "      <td>0</td>\n",
       "      <td>0</td>\n",
       "      <td>0</td>\n",
       "      <td>0</td>\n",
       "      <td>0</td>\n",
       "      <td>0</td>\n",
       "      <td>1</td>\n",
       "      <td>0</td>\n",
       "      <td>0</td>\n",
       "      <td>0</td>\n",
       "      <td>0</td>\n",
       "      <td>1</td>\n",
       "    </tr>\n",
       "    <tr>\n",
       "      <th>2</th>\n",
       "      <td>0</td>\n",
       "      <td>1</td>\n",
       "      <td>0</td>\n",
       "      <td>0</td>\n",
       "      <td>0</td>\n",
       "      <td>0</td>\n",
       "      <td>1</td>\n",
       "      <td>0</td>\n",
       "      <td>0</td>\n",
       "      <td>0</td>\n",
       "      <td>0</td>\n",
       "      <td>0</td>\n",
       "      <td>0</td>\n",
       "      <td>0</td>\n",
       "      <td>1</td>\n",
       "      <td>0</td>\n",
       "      <td>0</td>\n",
       "      <td>1</td>\n",
       "      <td>0</td>\n",
       "      <td>0</td>\n",
       "    </tr>\n",
       "    <tr>\n",
       "      <th>3</th>\n",
       "      <td>0</td>\n",
       "      <td>0</td>\n",
       "      <td>0</td>\n",
       "      <td>0</td>\n",
       "      <td>1</td>\n",
       "      <td>0</td>\n",
       "      <td>0</td>\n",
       "      <td>1</td>\n",
       "      <td>0</td>\n",
       "      <td>0</td>\n",
       "      <td>0</td>\n",
       "      <td>0</td>\n",
       "      <td>0</td>\n",
       "      <td>0</td>\n",
       "      <td>1</td>\n",
       "      <td>0</td>\n",
       "      <td>0</td>\n",
       "      <td>0</td>\n",
       "      <td>1</td>\n",
       "      <td>0</td>\n",
       "    </tr>\n",
       "    <tr>\n",
       "      <th>4</th>\n",
       "      <td>0</td>\n",
       "      <td>0</td>\n",
       "      <td>1</td>\n",
       "      <td>0</td>\n",
       "      <td>0</td>\n",
       "      <td>1</td>\n",
       "      <td>0</td>\n",
       "      <td>0</td>\n",
       "      <td>0</td>\n",
       "      <td>0</td>\n",
       "      <td>0</td>\n",
       "      <td>0</td>\n",
       "      <td>0</td>\n",
       "      <td>0</td>\n",
       "      <td>1</td>\n",
       "      <td>0</td>\n",
       "      <td>0</td>\n",
       "      <td>0</td>\n",
       "      <td>1</td>\n",
       "      <td>0</td>\n",
       "    </tr>\n",
       "  </tbody>\n",
       "</table>\n",
       "</div>"
      ],
      "text/plain": [
       "   CFO  CTO  JUNIOR  SENIOR  below_job_avg  DOCTORAL  MASTERS  \\\n",
       "0    0    0       0       0              1         0        0   \n",
       "1    0    0       1       0              0         0        0   \n",
       "2    0    1       0       0              0         0        1   \n",
       "3    0    0       0       0              1         0        0   \n",
       "4    0    0       1       0              0         1        0   \n",
       "\n",
       "   below_degree_avg  BUSINESS  CHEMISTRY  COMPSCI  ENGINEERING  LITERATURE  \\\n",
       "0                 1         0          0        0            0           0   \n",
       "1                 1         0          0        0            0           0   \n",
       "2                 0         0          0        0            0           0   \n",
       "3                 1         0          0        0            0           0   \n",
       "4                 0         0          0        0            0           0   \n",
       "\n",
       "   MATH  below_major_avg  EDUCATION  FINANCE  HEALTH  OIL  below_industry_avg  \n",
       "0     0                1          0        0       1    0                   0  \n",
       "1     0                1          0        0       0    0                   1  \n",
       "2     0                1          0        0       1    0                   0  \n",
       "3     0                1          0        0       0    1                   0  \n",
       "4     0                1          0        0       0    1                   0  "
      ]
     },
     "execution_count": 170,
     "metadata": {},
     "output_type": "execute_result"
    }
   ],
   "source": [
    "sum_below_avg_f = pd.concat([job, degree, major, industry], axis=1)\n",
    "sum_below_avg_f.head()"
   ]
  },
  {
   "cell_type": "code",
   "execution_count": 174,
   "id": "academic-airfare",
   "metadata": {},
   "outputs": [
    {
     "name": "stdout",
     "output_type": "stream",
     "text": [
      "[False  True False  True False False  True False False  True  True  True\n",
      "  True  True False  True False  True False False]\n",
      "['CTO' 'SENIOR' 'MASTERS' 'CHEMISTRY' 'COMPSCI' 'ENGINEERING' 'LITERATURE'\n",
      " 'MATH' 'EDUCATION' 'HEALTH']\n"
     ]
    },
    {
     "data": {
      "image/png": "[encoded data removed]",
      "text/plain": [
       "<Figure size 1152x144 with 1 Axes>"
      ]
     },
     "metadata": {
      "needs_background": "light"
     },
     "output_type": "display_data"
    }
   ],
   "source": [
    "X_train_below, X_test_below, y_train, y_test = train_test_split(sum_below_avg_f, y, test_size=0.2, random_state=1)\n",
    "\n",
    "X_train_below_tile, X_test_below_tile, tile_index_chi = select_feature_percentile_chi(X_train_below, X_test_below, y_train_enc)\n",
    "print(tile_index_chi)\n",
    "plt.matshow(tile_index_chi.reshape(1, -1), cmap='gray_r')\n",
    "plt.xlabel(\"Sample index\")\n",
    "print(sum_below_avg_f.iloc[:, tile_index_chi==1].columns.values)"
   ]
  },
  {
   "cell_type": "code",
   "execution_count": 176,
   "id": "first-dylan",
   "metadata": {},
   "outputs": [
    {
     "name": "stdout",
     "output_type": "stream",
     "text": [
      "1498.8357310990548\n"
     ]
    }
   ],
   "source": [
    "model7 = LinearRegression()\n",
    "model7.fit(X_train_below_tile, y_train_enc)\n",
    "yhat_below_tile = model7.predict(X_test_below_tile)\n",
    "mse_below_tile = mean_squared_error(y_test_enc, yhat_below_tile)\n",
    "print(mse_below_tile)"
   ]
  },
  {
   "cell_type": "code",
   "execution_count": 179,
   "id": "nearby-candy",
   "metadata": {},
   "outputs": [
    {
     "name": "stdout",
     "output_type": "stream",
     "text": [
      "[False False False False False False False False False False False  True\n",
      " False  True False False False False False False]\n",
      "['ENGINEERING' 'MATH']\n"
     ]
    },
    {
     "data": {
      "image/png": "[encoded data removed]",
      "text/plain": [
       "<Figure size 1152x144 with 1 Axes>"
      ]
     },
     "metadata": {
      "needs_background": "light"
     },
     "output_type": "display_data"
    }
   ],
   "source": [
    "def select_feature_percentile_chi(X_train, X_test, y_train):\n",
    "    percent_chi = SelectPercentile(chi2, percentile=10)\n",
    "    percent_chi.fit(X_train, y_train)\n",
    "    X_train_tile_chi = percent_chi.transform(X_train)\n",
    "    X_test_tile_chi = percent_chi.transform(X_test)\n",
    "    tile_index_chi = percent_chi.get_support()\n",
    "    return X_train_tile_chi, X_test_tile_chi, tile_index_chi\n",
    "\n",
    "X_train_below2, X_test_below2, y_train, y_test = train_test_split(sum_below_avg_f, y, test_size=0.2, random_state=1)\n",
    "\n",
    "X_train_below_tile2, X_test_below_tile2, tile_index_chi2 = select_feature_percentile_chi(X_train_below2, X_test_below2, y_train_enc)\n",
    "print(tile_index_chi2)\n",
    "plt.matshow(tile_index_chi2.reshape(1, -1), cmap='gray_r')\n",
    "plt.xlabel(\"Sample index\")\n",
    "print(sum_below_avg_f.iloc[:, tile_index_chi2==1].columns.values)"
   ]
  },
  {
   "cell_type": "code",
   "execution_count": 180,
   "id": "mounted-receptor",
   "metadata": {},
   "outputs": [
    {
     "name": "stdout",
     "output_type": "stream",
     "text": [
      "1498.8124452737636\n"
     ]
    }
   ],
   "source": [
    "model8 = LinearRegression()\n",
    "model8.fit(X_train_below_tile2, y_train_enc)\n",
    "yhat_below_tile2 = model8.predict(X_test_below_tile2)\n",
    "mse_below_tile2 = mean_squared_error(y_test_enc, yhat_below_tile2)\n",
    "print(mse_below_tile2)"
   ]
  },
  {
   "cell_type": "code",
   "execution_count": 185,
   "id": "worst-privilege",
   "metadata": {},
   "outputs": [],
   "source": [
    "full_df = pd.concat([sum_below_avg_f, target['salary']], axis=1)"
   ]
  },
  {
   "cell_type": "code",
   "execution_count": 189,
   "id": "deadly-uniform",
   "metadata": {},
   "outputs": [
    {
     "data": {
      "text/plain": [
       "count    1000000.000000\n",
       "mean         116.061818\n",
       "std           38.717936\n",
       "min            0.000000\n",
       "25%           88.000000\n",
       "50%          114.000000\n",
       "75%          141.000000\n",
       "max          301.000000\n",
       "Name: salary, dtype: float64"
      ]
     },
     "execution_count": 189,
     "metadata": {},
     "output_type": "execute_result"
    }
   ],
   "source": [
    "full_df.salary.describe()"
   ]
  },
  {
   "cell_type": "code",
   "execution_count": 190,
   "id": "parliamentary-litigation",
   "metadata": {},
   "outputs": [
    {
     "data": {
      "text/plain": [
       "(996788, 21)"
      ]
     },
     "execution_count": 190,
     "metadata": {},
     "output_type": "execute_result"
    }
   ],
   "source": [
    "mean = 116.06\n",
    "std = 38.7179\n",
    "full_df = full_df[full_df['salary']<mean+std*3]\n",
    "full_df.shape"
   ]
  },
  {
   "cell_type": "code",
   "execution_count": 192,
   "id": "designed-paintball",
   "metadata": {},
   "outputs": [
    {
     "data": {
      "text/plain": [
       "<AxesSubplot:>"
      ]
     },
     "execution_count": 192,
     "metadata": {},
     "output_type": "execute_result"
    },
    {
     "data": {
      "image/png": "[encoded data removed]",
      "text/plain": [
       "<Figure size 576x432 with 1 Axes>"
      ]
     },
     "metadata": {
      "needs_background": "light"
     },
     "output_type": "display_data"
    }
   ],
   "source": [
    "full_df.salary.hist(figsize=(8,6))"
   ]
  },
  {
   "cell_type": "code",
   "execution_count": 194,
   "id": "heavy-excerpt",
   "metadata": {},
   "outputs": [],
   "source": [
    "new_X = full_df.drop(['salary'], axis=1)\n",
    "new_y = full_df['salary']"
   ]
  },
  {
   "cell_type": "code",
   "execution_count": 201,
   "id": "specialized-priority",
   "metadata": {},
   "outputs": [
    {
     "name": "stdout",
     "output_type": "stream",
     "text": [
      "[False False False False False False False False False False False  True\n",
      " False  True False False False False False False]\n",
      "['ENGINEERING' 'MATH']\n"
     ]
    },
    {
     "data": {
      "image/png": "[encoded data removed]",
      "text/plain": [
       "<Figure size 1152x144 with 1 Axes>"
      ]
     },
     "metadata": {
      "needs_background": "light"
     },
     "output_type": "display_data"
    }
   ],
   "source": [
    "def target_transform(y_train, y_test):\n",
    "    le = LabelEncoder()\n",
    "    le.fit(y_train)\n",
    "    y_train_enc = le.transform(y_train)\n",
    "    y_test_enc = le.transform(y_test)\n",
    "    return y_train_enc, y_test_enc\n",
    "\n",
    "def select_feature_percentile_chi(X_train, X_test, y_train):\n",
    "    percent_chi = SelectPercentile(chi2, percentile=10)\n",
    "    percent_chi.fit(X_train, y_train)\n",
    "    X_train_tile_chi = percent_chi.transform(X_train)\n",
    "    X_test_tile_chi = percent_chi.transform(X_test)\n",
    "    tile_index_chi = percent_chi.get_support()\n",
    "    return X_train_tile_chi, X_test_tile_chi, tile_index_chi\n",
    "\n",
    "new_X_train, new_X_test, new_y_train, new_y_test = train_test_split(new_X, new_y, test_size=0.2, random_state=2)\n",
    "\n",
    "new_X_train_tile, new_X_test_tile, new_tile_index = select_feature_percentile_chi(new_X_train, new_X_test, new_y_train)\n",
    "\n",
    "print(new_tile_index)\n",
    "plt.matshow(new_tile_index.reshape(1, -1), cmap='gray_r')\n",
    "plt.xlabel(\"Sample index\")\n",
    "print(new_X.iloc[:, new_tile_index==1].columns.values)"
   ]
  },
  {
   "cell_type": "code",
   "execution_count": 203,
   "id": "freelance-breakdown",
   "metadata": {},
   "outputs": [
    {
     "name": "stdout",
     "output_type": "stream",
     "text": [
      "1448.450341906148\n"
     ]
    }
   ],
   "source": [
    "model9 = LinearRegression()\n",
    "model9.fit(new_X_train_tile, new_y_train)\n",
    "new_yhat = model9.predict(new_X_test_tile)\n",
    "new_mse = mean_squared_error(new_y_test, new_yhat)\n",
    "print(new_mse)"
   ]
  },
  {
   "cell_type": "code",
   "execution_count": 207,
   "id": "vocational-float",
   "metadata": {},
   "outputs": [],
   "source": [
    "from sklearn.feature_selection import mutual_info_regression\n",
    "\n",
    "def select_feature_percentile_reg(X_train, X_test, y_train):\n",
    "    percent_reg= SelectPercentile(mutual_info_regression, percentile=10)\n",
    "    percent_reg.fit(X_train, y_train)\n",
    "    X_train_tile_reg = percent_reg.transform(X_train)\n",
    "    X_test_tile_reg = percent_reg.transform(X_test)\n",
    "    tile_index_reg = percent_reg.get_support()\n",
    "    return X_train_tile_reg, X_test_tile_reg, tile_index_reg"
   ]
  },
  {
   "cell_type": "code",
   "execution_count": null,
   "id": "cardiovascular-dialogue",
   "metadata": {},
   "outputs": [],
   "source": []
  },
  {
   "cell_type": "code",
   "execution_count": null,
   "id": "suffering-account",
   "metadata": {},
   "outputs": [],
   "source": []
  },
  {
   "cell_type": "code",
   "execution_count": null,
   "id": "damaged-surname",
   "metadata": {},
   "outputs": [],
   "source": []
  },
  {
   "cell_type": "code",
   "execution_count": null,
   "id": "regulated-wisdom",
   "metadata": {},
   "outputs": [],
   "source": []
  },
  {
   "cell_type": "code",
   "execution_count": null,
   "id": "organized-research",
   "metadata": {},
   "outputs": [],
   "source": []
  },
  {
   "cell_type": "code",
   "execution_count": null,
   "id": "empirical-going",
   "metadata": {},
   "outputs": [],
   "source": []
  }
 ],
 "metadata": {
  "kernelspec": {
   "display_name": "Python 3",
   "language": "python",
   "name": "python3"
  },
  "language_info": {
   "codemirror_mode": {
    "name": "ipython",
    "version": 3
   },
   "file_extension": ".py",
   "mimetype": "text/x-python",
   "name": "python",
   "nbconvert_exporter": "python",
   "pygments_lexer": "ipython3",
   "version": "3.8.3"
  }
 },
 "nbformat": 4,
 "nbformat_minor": 5
}
