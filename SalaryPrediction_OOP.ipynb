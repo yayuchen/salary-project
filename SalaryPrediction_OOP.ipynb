{
 "cells": [
  {
   "cell_type": "markdown",
   "id": "northern-retrieval",
   "metadata": {},
   "source": [
    "# Salary Prediction "
   ]
  },
  {
   "cell_type": "markdown",
   "id": "rotary-aluminum",
   "metadata": {},
   "source": [
    "## Coding:\n",
    "### [**Data Clean**](#1)\n",
    "### [**Feature Engineer**](#2)\n",
    "### [**Model Evaluation**](#3)\n",
    "\n",
    "### Objects:\n",
    ">> [**Data object**](#4)\n",
    ">\n",
    ">> [**Target distribution plot**](#5)\n",
    ">\n",
    ">> [**Feature object**](#6)\n",
    ">\n",
    ">> [**Model evaluation object**](#7)\n",
    ">\n",
    ">> [**Model tuning**](#8)\n",
    ">\n",
    ">> [**Model training**](#9)"
   ]
  },
  {
   "cell_type": "code",
   "execution_count": 1,
   "id": "industrial-cancer",
   "metadata": {},
   "outputs": [],
   "source": [
    "__author__ = \"Ya Yu Chen\"\n",
    "__email__ = \"a725761@gmail.com\""
   ]
  },
  {
   "cell_type": "markdown",
   "id": "emerging-income",
   "metadata": {},
   "source": [
    "## Import modules"
   ]
  },
  {
   "cell_type": "code",
   "execution_count": 2,
   "id": "remarkable-battlefield",
   "metadata": {},
   "outputs": [],
   "source": [
    "import pandas as pd\n",
    "import numpy as np\n",
    "import sklearn as sk\n",
    "import matplotlib.pyplot as plt\n",
    "import seaborn as sns\n",
    "from sklearn.utils import shuffle"
   ]
  },
  {
   "cell_type": "markdown",
   "id": "earlier-hunger",
   "metadata": {},
   "source": [
    "<a id=\"1\"></a>\n",
    "## Data clean"
   ]
  },
  {
   "cell_type": "code",
   "execution_count": 3,
   "id": "north-transformation",
   "metadata": {},
   "outputs": [],
   "source": [
    "class Data:\n",
    "    \n",
    "    def __init__(self, train_file, target_file, cate_col, num_col, target_col, id_col):\n",
    "        self.cate_col = cate_col\n",
    "        self.num_col = num_col\n",
    "        self.feature_cols = cate_col + num_col\n",
    "        self.target_col = target_col\n",
    "        self.id_col = id_col\n",
    "        self.train_feature_df = self.load_data(train_file)\n",
    "        self.target_feature_df = self.load_data(target_file)\n",
    "        self.train_df = self.create_clean_df(self.train_feature_df, \n",
    "                                             self.target_feature_df, target_col, id_col)\n",
    "        \n",
    "    def load_data(self, file_path):\n",
    "        return pd.read_csv(file_path)\n",
    "\n",
    "    def remove_null(self, data):\n",
    "        return data.dropna()\n",
    "\n",
    "    def merge_df(self, df1, df2, key):\n",
    "        return pd.merge(df1, df2, on=key, how='inner')\n",
    "\n",
    "    def clean_id_and_target(self, data, id_col, target):\n",
    "        data = data.drop(id_col, axis=1)\n",
    "        data = data[data[target] > 0]\n",
    "        return data\n",
    "\n",
    "    def shuffle_data(self, data):\n",
    "        return shuffle(data).reset_index()\n",
    "\n",
    "    def target_plot(self):\n",
    "        plt.figure(figsize=(8,6))\n",
    "        plt.subplot(121)\n",
    "        sns.boxplot(self.train_df[self.target_col])\n",
    "        plt.subplot(122)\n",
    "        sns.distplot(self.train_df[self.target_col], bins=20)\n",
    "        plt.show()\n",
    "    \n",
    "    def create_clean_df(self, train_object, target_object, target, key):\n",
    "        train_df = self.merge_df(train_object, target_object, key)\n",
    "        train_df = self.clean_id_and_target(train_df, key, target)\n",
    "        train_df = self.shuffle_data(train_df)\n",
    "        return train_df"
   ]
  },
  {
   "cell_type": "markdown",
   "id": "japanese-transsexual",
   "metadata": {},
   "source": [
    "<a id=\"2\"></a>\n",
    "## Feature engineer"
   ]
  },
  {
   "cell_type": "code",
   "execution_count": 4,
   "id": "patent-laundry",
   "metadata": {},
   "outputs": [],
   "source": [
    "from sklearn.preprocessing import LabelEncoder\n",
    "from sklearn.feature_selection import mutual_info_regression"
   ]
  },
  {
   "cell_type": "code",
   "execution_count": 5,
   "id": "hungarian-pixel",
   "metadata": {},
   "outputs": [],
   "source": [
    "class FeatureEngineer:\n",
    "    \n",
    "    def __init__(self, data):\n",
    "        self.data = data\n",
    "        self.cate_col = data.cate_col\n",
    "        self.num_col = data.num_col\n",
    "        self.features = self.cate_col + self.num_col\n",
    "        self.target_col = data.target_col\n",
    "        self.train_df = data.train_df\n",
    "        self._ = self._transform_label_encoder(self.train_df, self.features)\n",
    "        self.groups = self.train_df.groupby(by=self.cate_col)\n",
    "        self.new_df = self._add_new_features()        \n",
    "        \n",
    "    def one_hot_encoding(self, data, col):\n",
    "        return pd.get_dummies(data[col])    \n",
    "    \n",
    "    def Label_encoder(self, data, col):\n",
    "        le = LabelEncoder()\n",
    "        le.fit(data[col])\n",
    "        data[col] = le.transform(data[col])    \n",
    "        \n",
    "    def _transform_label_encoder(self, data, cols):\n",
    "        for col in cols:\n",
    "            self.Label_encoder(data, col)\n",
    "            \n",
    "    def _feature_groups_df(self):\n",
    "        #target = self.target_col\n",
    "        groups_df = pd.DataFrame({'groups_mean': self.groups[self.target_col].mean()})\n",
    "        groups_df['groups_max'] = self.groups[self.target_col].max()\n",
    "        groups_df['groups_min'] = self.groups[self.target_col].min()\n",
    "        groups_df['groups_std'] = self.groups[self.target_col].std()\n",
    "        groups_df['groups_median'] = self.groups[self.target_col].median()\n",
    "        #groups_df.reset_index(inplace=True)\n",
    "        return groups_df\n",
    "\n",
    "    def merge_df(self, df1, df2, key, fillna=False):\n",
    "        df1 = pd.merge(df1, df2, on=key, how='left')\n",
    "        if fillna:\n",
    "            df1.fillna(0, inplace=True)\n",
    "        return df1\n",
    "    \n",
    "    def _add_new_features(self):\n",
    "        groups_df = self._feature_groups_df()\n",
    "        groups_df.reset_index(inplace=True)\n",
    "        return self.merge_df(self.train_df, groups_df, self.cate_col)\n",
    "    \n",
    "    def concat_df(self, df1, df2):\n",
    "        return pd.concat([df1, df2], axis=1)\n",
    "    \n",
    "    def make_mi_scores(self, X, y):\n",
    "        X = X.copy()\n",
    "        #for colname in X.select_dtypes([\"object\", \"category\"]):\n",
    "            #X[colname], _ = X[colname].factorize()\n",
    "    # All discrete features should now have integer dtypes\n",
    "        discrete_features = [pd.api.types.is_integer_dtype(t) for t in X.dtypes]\n",
    "        mi_scores = mutual_info_regression(X, y, discrete_features=discrete_features, random_state=0)\n",
    "        mi_scores = pd.Series(mi_scores, name=\"MI Scores\", index=X.columns)\n",
    "        mi_scores = mi_scores.sort_values(ascending=False)\n",
    "        return mi_scores"
   ]
  },
  {
   "cell_type": "markdown",
   "id": "integral-junior",
   "metadata": {},
   "source": [
    "<a id=\"3\"></a>\n",
    "## Model evaluation"
   ]
  },
  {
   "cell_type": "code",
   "execution_count": 6,
   "id": "composed-tennis",
   "metadata": {},
   "outputs": [],
   "source": [
    "from sklearn.linear_model import LinearRegression\n",
    "from sklearn.metrics import mean_squared_error\n",
    "from sklearn.model_selection import cross_val_score\n",
    "from sklearn.pipeline import make_pipeline\n",
    "from sklearn.preprocessing import StandardScaler, PolynomialFeatures\n",
    "from sklearn.ensemble import RandomForestRegressor, GradientBoostingRegressor\n",
    "from sklearn.model_selection import RandomizedSearchCV\n",
    "from sklearn.model_selection import GridSearchCV"
   ]
  },
  {
   "cell_type": "code",
   "execution_count": 7,
   "id": "decreased-georgia",
   "metadata": {},
   "outputs": [],
   "source": [
    "class ModelEvaluation:\n",
    "    \n",
    "    def __init__(self, feature):\n",
    "        self.feature = feature\n",
    "        self.train_df = feature.new_df\n",
    "        self.target_col = feature.target_col\n",
    "        self.input_df = self.create_input_df()\n",
    "        self.models = []\n",
    "        \n",
    "    def create_input_df(self):\n",
    "        return self.train_df.iloc[:, 2:]\n",
    "    \n",
    "    def add_model(self, model):\n",
    "        return self.models.append(model)\n",
    "    \n",
    "    def _hyper_tuning_RDsearch(self, model, X, y):\n",
    "        n_estimators = [int(x) for x in np.linspace(0,100,num=20)]\n",
    "        max_features = [float(x/(X.shape[0])) for x in np.linspace(0,80, num=20)]\n",
    "        max_depth = [int(x) for x in np.linspace(0,80, num=20)]\n",
    "        max_depth.append(None)\n",
    "        min_samples_split = [int(x) for x in np.linspace(0,100,num=20)]\n",
    "        random_grid = {'n_estimators':n_estimators, 'max_features':max_features, 'max_depth':max_depth, 'min_samples_split':min_samples_split}\n",
    "        RD = RandomizedSearchCV(model, param_distributions = random_grid, pre_dispatch=4, cv=2, verbose=1, random_state=1, n_jobs=4)\n",
    "        RD.fit(X, y)\n",
    "        return RD.best_params_\n",
    "    \n",
    "    def hyper_tuning_GdsearchCV(self, model, X, y):\n",
    "        best_params = self._hyper_tuning_RDsearch(model, X, y)\n",
    "        n, max_f, max_d, min_s = best_params['n_estimators'], best_params['max_features'], best_params['max_depth'], best_params['min_samples_split']\n",
    "        grid = {'n_estimators': [n-5, n, n+5], 'max_features': [max_f-1, max_f, max_f+1], 'max_depth': [max_d-10, max_d, max_d+10], 'min_samples_split': [min_s-2, min_s, min_s+2]}\n",
    "        GD = GridSearchCV(model, param_grid= grid, cv=3, verbose=2, n_jobs=4)\n",
    "        GD.fit(X, y)\n",
    "        return GD.best_params_\n",
    "    \n",
    "    def _train_model(self, model, X, y, n_jobs, mean_mse, cv_std):\n",
    "        mse = cross_val_score(model, X, y, cv=5, n_jobs=n_jobs, scoring='neg_mean_squared_error')\n",
    "        mean_mse[model] = -1 *np.mean(mse)\n",
    "        cv_std[model] = np.std(mse)\n",
    "        return self._print_summary(model, mean_mse, cv_std)\n",
    "    \n",
    "    def train_model(self):\n",
    "        for model in self.models:\n",
    "            self._train_model(model, X, y, 4, mean_mse, cv_std)        \n",
    "        \n",
    "    def _print_summary(self, model, mean_mse, cv_std):\n",
    "        print('\\nModel:\\n', model)\n",
    "        print('Average MSE:\\n', mean_mse[model])\n",
    "        print('Standard deviation during CV:\\n', cv_std[model])\n",
    "        \n",
    "    def _best_model(self, mean_mse):\n",
    "        return min(mean_mse, key=mean_mse.get)\n",
    "    \n",
    "    def model_fit(self, X, y):\n",
    "        model = self._best_model(mean_mse)\n",
    "        return model.fit(X, y)\n",
    "    \n",
    "    def get_prediction(self, new_X):\n",
    "        model = self.model_fit(X, y)\n",
    "        prediction = model.predict(new_X)\n",
    "        return prediction\n",
    "    \n",
    "    def create_feature_importance(self, X):\n",
    "        model = self._best_model(mean_mse)\n",
    "        importances = model.feature_importances_\n",
    "        feature_importances_df = pd.DataFrame({'features': X.columns, 'importances': importances})\n",
    "        feature_importances_df.sort_values(by='importances', ascending = False, inplace=True)\n",
    "        feature_importances_df.set_index('features', inplace=True, drop=True)\n",
    "        return feature_importances_df\n",
    "    \n",
    "    def plot_feature_importance(self):\n",
    "        feature_importances_df = self.create_feature_importance(X)\n",
    "        feature_importances_df.plot.bar(figsize=(10,8))\n",
    "        plt.xticks(rotation=45)\n",
    "        plt.show()"
   ]
  },
  {
   "cell_type": "code",
   "execution_count": 8,
   "id": "broadband-sewing",
   "metadata": {},
   "outputs": [],
   "source": [
    "train_file = 'C:\\\\Users\\\\EllenChen\\\\Desktop\\\\DSDJ\\\\case study\\\\HR and salary prediction example\\\\salaryprediction\\\\data\\\\train_features.csv'\n",
    "test_file = 'C:\\\\Users\\\\EllenChen\\\\Desktop\\\\DSDJ\\\\case study\\\\HR and salary prediction example\\\\salaryprediction\\\\data\\\\train_features.csv'\n",
    "target_file = 'C:\\\\Users\\\\EllenChen\\\\Desktop\\\\DSDJ\\\\case study\\\\HR and salary prediction example\\\\salaryprediction\\\\data\\\\train_salaries.csv'\n",
    "\n",
    "cate_col = ['jobType', 'degree', 'major', 'industry']\n",
    "num_col = ['yearsExperience', 'milesFromMetropolis']\n",
    "target_col = 'salary'\n",
    "id_col = 'jobId'"
   ]
  },
  {
   "cell_type": "markdown",
   "id": "reflected-relative",
   "metadata": {},
   "source": [
    "<a id=\"4\"></a>\n",
    "### Data object"
   ]
  },
  {
   "cell_type": "code",
   "execution_count": 9,
   "id": "worthy-plate",
   "metadata": {},
   "outputs": [],
   "source": [
    "# create Data object\n",
    "data = Data(train_file, target_file, cate_col, num_col, target_col, id_col)"
   ]
  },
  {
   "cell_type": "markdown",
   "id": "finnish-documentation",
   "metadata": {},
   "source": [
    "<a id=\"5\"></a>\n",
    "### Target distribution plot"
   ]
  },
  {
   "cell_type": "code",
   "execution_count": null,
   "id": "plastic-isolation",
   "metadata": {},
   "outputs": [],
   "source": [
    "# target distribution plot\n",
    "data.target_plot()"
   ]
  },
  {
   "cell_type": "markdown",
   "id": "heavy-hygiene",
   "metadata": {},
   "source": [
    "<a id=\"6\"></a>\n",
    "### Feature object"
   ]
  },
  {
   "cell_type": "code",
   "execution_count": 10,
   "id": "theoretical-record",
   "metadata": {},
   "outputs": [],
   "source": [
    "# create feature object by data \n",
    "feature = FeatureEngineer(data)"
   ]
  },
  {
   "cell_type": "code",
   "execution_count": 11,
   "id": "matched-heavy",
   "metadata": {},
   "outputs": [
    {
     "data": {
      "text/html": [
       "<div>\n",
       "<style scoped>\n",
       "    .dataframe tbody tr th:only-of-type {\n",
       "        vertical-align: middle;\n",
       "    }\n",
       "\n",
       "    .dataframe tbody tr th {\n",
       "        vertical-align: top;\n",
       "    }\n",
       "\n",
       "    .dataframe thead th {\n",
       "        text-align: right;\n",
       "    }\n",
       "</style>\n",
       "<table border=\"1\" class=\"dataframe\">\n",
       "  <thead>\n",
       "    <tr style=\"text-align: right;\">\n",
       "      <th></th>\n",
       "      <th>index</th>\n",
       "      <th>companyId</th>\n",
       "      <th>jobType</th>\n",
       "      <th>degree</th>\n",
       "      <th>major</th>\n",
       "      <th>industry</th>\n",
       "      <th>yearsExperience</th>\n",
       "      <th>milesFromMetropolis</th>\n",
       "      <th>salary</th>\n",
       "      <th>groups_mean</th>\n",
       "      <th>groups_max</th>\n",
       "      <th>groups_min</th>\n",
       "      <th>groups_std</th>\n",
       "      <th>groups_median</th>\n",
       "    </tr>\n",
       "  </thead>\n",
       "  <tbody>\n",
       "    <tr>\n",
       "      <th>0</th>\n",
       "      <td>813636</td>\n",
       "      <td>COMP61</td>\n",
       "      <td>0</td>\n",
       "      <td>2</td>\n",
       "      <td>7</td>\n",
       "      <td>1</td>\n",
       "      <td>24</td>\n",
       "      <td>6</td>\n",
       "      <td>147</td>\n",
       "      <td>119.114768</td>\n",
       "      <td>214</td>\n",
       "      <td>59</td>\n",
       "      <td>26.818977</td>\n",
       "      <td>116.0</td>\n",
       "    </tr>\n",
       "    <tr>\n",
       "      <th>1</th>\n",
       "      <td>394462</td>\n",
       "      <td>COMP37</td>\n",
       "      <td>3</td>\n",
       "      <td>2</td>\n",
       "      <td>7</td>\n",
       "      <td>6</td>\n",
       "      <td>14</td>\n",
       "      <td>20</td>\n",
       "      <td>87</td>\n",
       "      <td>74.962764</td>\n",
       "      <td>163</td>\n",
       "      <td>31</td>\n",
       "      <td>22.404637</td>\n",
       "      <td>71.0</td>\n",
       "    </tr>\n",
       "    <tr>\n",
       "      <th>2</th>\n",
       "      <td>583409</td>\n",
       "      <td>COMP57</td>\n",
       "      <td>7</td>\n",
       "      <td>0</td>\n",
       "      <td>0</td>\n",
       "      <td>4</td>\n",
       "      <td>5</td>\n",
       "      <td>5</td>\n",
       "      <td>116</td>\n",
       "      <td>138.994924</td>\n",
       "      <td>224</td>\n",
       "      <td>77</td>\n",
       "      <td>27.952704</td>\n",
       "      <td>134.0</td>\n",
       "    </tr>\n",
       "    <tr>\n",
       "      <th>3</th>\n",
       "      <td>130203</td>\n",
       "      <td>COMP57</td>\n",
       "      <td>6</td>\n",
       "      <td>3</td>\n",
       "      <td>3</td>\n",
       "      <td>6</td>\n",
       "      <td>20</td>\n",
       "      <td>24</td>\n",
       "      <td>130</td>\n",
       "      <td>120.533181</td>\n",
       "      <td>202</td>\n",
       "      <td>61</td>\n",
       "      <td>27.082645</td>\n",
       "      <td>117.0</td>\n",
       "    </tr>\n",
       "    <tr>\n",
       "      <th>4</th>\n",
       "      <td>70832</td>\n",
       "      <td>COMP4</td>\n",
       "      <td>7</td>\n",
       "      <td>2</td>\n",
       "      <td>7</td>\n",
       "      <td>5</td>\n",
       "      <td>5</td>\n",
       "      <td>49</td>\n",
       "      <td>79</td>\n",
       "      <td>105.350124</td>\n",
       "      <td>202</td>\n",
       "      <td>53</td>\n",
       "      <td>25.788985</td>\n",
       "      <td>102.0</td>\n",
       "    </tr>\n",
       "  </tbody>\n",
       "</table>\n",
       "</div>"
      ],
      "text/plain": [
       "    index companyId  jobType  degree  major  industry  yearsExperience  \\\n",
       "0  813636    COMP61        0       2      7         1               24   \n",
       "1  394462    COMP37        3       2      7         6               14   \n",
       "2  583409    COMP57        7       0      0         4                5   \n",
       "3  130203    COMP57        6       3      3         6               20   \n",
       "4   70832     COMP4        7       2      7         5                5   \n",
       "\n",
       "   milesFromMetropolis  salary  groups_mean  groups_max  groups_min  \\\n",
       "0                    6     147   119.114768         214          59   \n",
       "1                   20      87    74.962764         163          31   \n",
       "2                    5     116   138.994924         224          77   \n",
       "3                   24     130   120.533181         202          61   \n",
       "4                   49      79   105.350124         202          53   \n",
       "\n",
       "   groups_std  groups_median  \n",
       "0   26.818977          116.0  \n",
       "1   22.404637           71.0  \n",
       "2   27.952704          134.0  \n",
       "3   27.082645          117.0  \n",
       "4   25.788985          102.0  "
      ]
     },
     "execution_count": 11,
     "metadata": {},
     "output_type": "execute_result"
    }
   ],
   "source": [
    "feature.new_df.head()"
   ]
  },
  {
   "cell_type": "code",
   "execution_count": null,
   "id": "ancient-degree",
   "metadata": {},
   "outputs": [],
   "source": [
    "# use 5000 sample as X to examine the MI scores\n",
    "X = feature.new_df.iloc[:5000,2:]\n",
    "y = X.pop('salary')\n",
    "feature.make_mi_scores(X, y)"
   ]
  },
  {
   "cell_type": "markdown",
   "id": "afraid-machine",
   "metadata": {},
   "source": [
    "<a id=\"7\"></a>\n",
    "### Model evaluation object"
   ]
  },
  {
   "cell_type": "code",
   "execution_count": 12,
   "id": "egyptian-japanese",
   "metadata": {},
   "outputs": [],
   "source": [
    "# create new model evaluation object by feature\n",
    "ME = ModelEvaluation(feature)"
   ]
  },
  {
   "cell_type": "code",
   "execution_count": 13,
   "id": "neutral-stations",
   "metadata": {},
   "outputs": [],
   "source": [
    "# ['jobType', 'degree', 'major', 'industry', 'yearsExperience', 'milesFromMetropolis', 'groups_mean']\n",
    "# as input_df\n",
    "\n",
    "X = ME.input_df\n",
    "y = X.pop('salary')"
   ]
  },
  {
   "cell_type": "markdown",
   "id": "impaired-baseline",
   "metadata": {},
   "source": [
    "<a id=\"8\"></a>\n",
    "### Model tuning"
   ]
  },
  {
   "cell_type": "code",
   "execution_count": null,
   "id": "amber-chile",
   "metadata": {},
   "outputs": [],
   "source": [
    "rr = RandomForestRegressor(random_state=1, verbose=0)\n",
    "gbr = GradientBoostingRegressor(random_state=1, verbose=0)"
   ]
  },
  {
   "cell_type": "code",
   "execution_count": null,
   "id": "written-tutorial",
   "metadata": {},
   "outputs": [],
   "source": [
    "# use RandomizeSearchCV to find a range then use GridSearchCV to find the best hyperparameters\n",
    "ME.hyper_tuning_GdsearchCV(rr, X, y)"
   ]
  },
  {
   "cell_type": "code",
   "execution_count": null,
   "id": "organic-cooking",
   "metadata": {},
   "outputs": [],
   "source": [
    "# use RandomizeSearchCV to find a range then use GridSearchCV to find the best hyperparameters\n",
    "ME.hyper_tuning_GdsearchCV(gbr, X, y)"
   ]
  },
  {
   "cell_type": "code",
   "execution_count": 14,
   "id": "radical-disaster",
   "metadata": {},
   "outputs": [],
   "source": [
    "# using the best parameter for models\n",
    "rrr = RandomForestRegressor(bootstrap=True, criterion='mse', max_depth=15,\n",
    "           max_features=8, max_leaf_nodes=None, min_impurity_decrease=0.0,\n",
    "           min_impurity_split=None, min_samples_leaf=1,\n",
    "           min_samples_split=80, min_weight_fraction_leaf=0.0,\n",
    "           n_estimators=60, n_jobs=4, oob_score=False, random_state=None,\n",
    "           verbose=0, warm_start=False)\n",
    "\n",
    "gbrr = GradientBoostingRegressor(alpha=0.9, criterion='friedman_mse', init=None,\n",
    "             learning_rate=0.1, loss='ls', max_depth=7, max_features=None,\n",
    "             max_leaf_nodes=None, min_impurity_decrease=0.0,\n",
    "             min_impurity_split=None, min_samples_leaf=1,\n",
    "             min_samples_split=2, min_weight_fraction_leaf=0.0,\n",
    "             n_estimators=40, presort='auto', random_state=None,\n",
    "             subsample=1.0, verbose=0, warm_start=False)\n",
    "    \n",
    "reg = LinearRegression()\n",
    "reg_poly = make_pipeline(PolynomialFeatures(), LinearRegression())\n",
    "\n",
    "models = [rrr, gbrr, reg, reg_poly]\n",
    "\n",
    "# add model to ME.models for later using\n",
    "for model in models:\n",
    "    ME.add_model(model)"
   ]
  },
  {
   "cell_type": "markdown",
   "id": "handmade-safety",
   "metadata": {},
   "source": [
    "<a id=\"9\"></a>\n",
    "### Model training"
   ]
  },
  {
   "cell_type": "code",
   "execution_count": 15,
   "id": "backed-suicide",
   "metadata": {},
   "outputs": [
    {
     "name": "stdout",
     "output_type": "stream",
     "text": [
      "\n",
      "Model:\n",
      " GradientBoostingRegressor(max_depth=7, n_estimators=40, presort='auto')\n",
      "Average MSE:\n",
      " 355.0923937088007\n",
      "Standard deviation during CV:\n",
      " 0.35400300643810556\n"
     ]
    }
   ],
   "source": [
    "mean_mse = {}\n",
    "cv_std = {}\n",
    "\n",
    "# run each model then show mean_mse and cv_std for each model\n",
    "ME.train_model()"
   ]
  },
  {
   "cell_type": "code",
   "execution_count": 16,
   "id": "powerful-scholarship",
   "metadata": {},
   "outputs": [
    {
     "name": "stderr",
     "output_type": "stream",
     "text": [
      "C:\\Users\\EllenChen\\anaconda3\\lib\\site-packages\\sklearn\\ensemble\\_gb.py:304: FutureWarning: The parameter 'presort' is deprecated and has no effect. It will be removed in v0.24. You can suppress this warning by not passing any value to the 'presort' parameter. We also recommend using HistGradientBoosting models instead.\n",
      "  warnings.warn(\"The parameter 'presort' is deprecated and has no \"\n"
     ]
    },
    {
     "data": {
      "text/plain": [
       "GradientBoostingRegressor(max_depth=7, n_estimators=40, presort='auto')"
      ]
     },
     "execution_count": 16,
     "metadata": {},
     "output_type": "execute_result"
    }
   ],
   "source": [
    "ME.model_fit(X, y)"
   ]
  },
  {
   "cell_type": "code",
   "execution_count": 17,
   "id": "negative-detroit",
   "metadata": {},
   "outputs": [
    {
     "data": {
      "image/png": "[encoded data removed]",
      "text/plain": [
       "<Figure size 720x576 with 1 Axes>"
      ]
     },
     "metadata": {
      "needs_background": "light"
     },
     "output_type": "display_data"
    }
   ],
   "source": [
    "ME.plot_feature_importance()"
   ]
  }
 ],
 "metadata": {
  "kernelspec": {
   "display_name": "Python 3",
   "language": "python",
   "name": "python3"
  },
  "language_info": {
   "codemirror_mode": {
    "name": "ipython",
    "version": 3
   },
   "file_extension": ".py",
   "mimetype": "text/x-python",
   "name": "python",
   "nbconvert_exporter": "python",
   "pygments_lexer": "ipython3",
   "version": "3.8.3"
  }
 },
 "nbformat": 4,
 "nbformat_minor": 5
}
