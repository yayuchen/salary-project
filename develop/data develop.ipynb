{
 "cells": [
  {
   "cell_type": "markdown",
   "id": "vocal-maldives",
   "metadata": {},
   "source": [
    "# Salary predictin"
   ]
  },
  {
   "cell_type": "markdown",
   "id": "noted-reasoning",
   "metadata": {},
   "source": [
    "## Data develop"
   ]
  },
  {
   "cell_type": "markdown",
   "id": "seasonal-wallace",
   "metadata": {},
   "source": [
    "> [**Pre-processing**](#1)\n",
    "\n",
    "> [**Feature engineer**](#2)\n",
    "\n",
    "> [**Model tuning**](#3)\n",
    "\n",
    "> [**Model evaluation**](#4)\n",
    ">> [**Examine features importances**](#5)\n",
    "\n",
    "> [**Conclusion**](#6)"
   ]
  },
  {
   "cell_type": "markdown",
   "id": "handmade-lecture",
   "metadata": {},
   "source": [
    "### Import modules and data"
   ]
  },
  {
   "cell_type": "code",
   "execution_count": 1,
   "id": "selective-restaurant",
   "metadata": {},
   "outputs": [],
   "source": [
    "import pandas as pd\n",
    "import numpy as np\n",
    "import sklearn as sk\n",
    "import matplotlib.pyplot as plt\n",
    "import seaborn as sns\n",
    "from sklearn.utils import shuffle\n",
    "%matplotlib inline\n",
    "\n",
    "#your info here\n",
    "__author__ = \"Ya Yu Chen\"\n",
    "__email__ = \"a725761@gmail.com\""
   ]
  },
  {
   "cell_type": "code",
   "execution_count": 2,
   "id": "disabled-cream",
   "metadata": {},
   "outputs": [],
   "source": [
    "def load_data(file_path):\n",
    "    return pd.read_csv(file_path)"
   ]
  },
  {
   "cell_type": "code",
   "execution_count": 3,
   "id": "arabic-labor",
   "metadata": {},
   "outputs": [],
   "source": [
    "train_features = 'C:\\\\Users\\\\EllenChen\\\\Desktop\\\\DSDJ\\\\case study\\\\HR and salary prediction example\\\\salaryprediction\\\\notebooks\\\\data examine\\\\cleaned_shuffle_train_df.csv'\n",
    "test_features = 'C:\\\\Users\\\\EllenChen\\\\Desktop\\\\DSDJ\\\\case study\\\\HR and salary prediction example\\\\salaryprediction\\\\data\\\\train_features.csv'\n",
    "\n",
    "train_df = load_data(train_features)\n",
    "test_feature_df = load_data(test_features)"
   ]
  },
  {
   "cell_type": "code",
   "execution_count": 4,
   "id": "sophisticated-scheduling",
   "metadata": {},
   "outputs": [],
   "source": [
    "cat_feature = [i for i in train_df.columns if train_df[i].dtype.name == 'object' or train_df[i].dtype.name == 'category']\n",
    "num_feature = [i for i in train_df.columns if train_df[i].dtype.name == 'int64'  or train_df[i].dtype.name == 'float']"
   ]
  },
  {
   "cell_type": "markdown",
   "id": "synthetic-labor",
   "metadata": {},
   "source": [
    " <a id=\"1\"></a>\n",
    "## Pre-processing"
   ]
  },
  {
   "cell_type": "markdown",
   "id": "violent-blond",
   "metadata": {},
   "source": [
    "### Label encoding train and test features"
   ]
  },
  {
   "cell_type": "code",
   "execution_count": 27,
   "id": "corrected-terror",
   "metadata": {},
   "outputs": [],
   "source": [
    "from sklearn.linear_model import LinearRegression\n",
    "from sklearn.metrics import mean_squared_error\n",
    "from sklearn.preprocessing import StandardScaler, PolynomialFeatures\n",
    "from sklearn.ensemble import RandomForestRegressor, GradientBoostingRegressor\n",
    "from sklearn.preprocessing import LabelEncoder\n",
    "from sklearn.pipeline import make_pipeline\n",
    "from sklearn.model_selection import cross_val_score"
   ]
  },
  {
   "cell_type": "code",
   "execution_count": 8,
   "id": "exterior-indonesia",
   "metadata": {},
   "outputs": [],
   "source": [
    "# train df \n",
    "encoded_df = train_df.iloc[:, 3:].copy()\n",
    "#test df\n",
    "test_ec_df = test_feature_df.iloc[:, 2:].copy()"
   ]
  },
  {
   "cell_type": "code",
   "execution_count": 9,
   "id": "essential-montgomery",
   "metadata": {},
   "outputs": [],
   "source": [
    "# feature label encoding\n",
    "def Label_encoder(df, col):\n",
    "    le = LabelEncoder()\n",
    "    le.fit(df[col])\n",
    "    df[col] = le.transform(df[col])\n",
    "\n",
    "# label encoding train df\n",
    "for i in encoded_df.columns:\n",
    "    Label_encoder(encoded_df, i)\n",
    "# label encoding test df\n",
    "for i in test_ec_df.columns:\n",
    "    Label_encoder(test_ec_df, i)"
   ]
  },
  {
   "cell_type": "code",
   "execution_count": 10,
   "id": "homeless-alberta",
   "metadata": {},
   "outputs": [
    {
     "data": {
      "text/plain": [
       "Index(['jobType', 'degree', 'major', 'industry', 'yearsExperience',\n",
       "       'milesFromMetropolis', 'salary'],\n",
       "      dtype='object')"
      ]
     },
     "execution_count": 10,
     "metadata": {},
     "output_type": "execute_result"
    }
   ],
   "source": [
    "encoded_df.columns"
   ]
  },
  {
   "cell_type": "code",
   "execution_count": 13,
   "id": "stock-vehicle",
   "metadata": {},
   "outputs": [
    {
     "data": {
      "text/plain": [
       "['jobType', 'degree', 'major', 'industry']"
      ]
     },
     "execution_count": 13,
     "metadata": {},
     "output_type": "execute_result"
    }
   ],
   "source": [
    "cat_feature[2:]"
   ]
  },
  {
   "cell_type": "markdown",
   "id": "labeled-jewel",
   "metadata": {},
   "source": [
    " <a id=\"2\"></a>\n",
    "## Features engineer"
   ]
  },
  {
   "cell_type": "markdown",
   "id": "dress-visitor",
   "metadata": {},
   "source": [
    "* Group by train data's categorical features\n",
    "* Create new features by computing target's statistical data\n",
    "* Combine new features with origin data"
   ]
  },
  {
   "cell_type": "code",
   "execution_count": 14,
   "id": "southern-shopper",
   "metadata": {},
   "outputs": [],
   "source": [
    "def group_feature(df, col):\n",
    "    return df.groupby(by=col)\n",
    "\n",
    "groups = group_feature(encoded_df, cat_feature[2:])"
   ]
  },
  {
   "cell_type": "code",
   "execution_count": 15,
   "id": "wrong-decision",
   "metadata": {},
   "outputs": [],
   "source": [
    "# train equal train features col\n",
    "def groups_central_stat(groups, target):\n",
    "    groups_df = pd.DataFrame({'groups_mean': groups[target].mean()})\n",
    "    groups_df['groups_max'] = groups[target].max()\n",
    "    groups_df['groups_min'] = groups[target].min()\n",
    "    groups_df['groups_std'] = groups[target].std()\n",
    "    groups_df['groups_median'] = groups[target].median()\n",
    "    groups_df.reset_index(inplace=True)\n",
    "    return groups_df\n",
    "\n",
    "groups_df = groups_central_stat(groups, 'salary')"
   ]
  },
  {
   "cell_type": "code",
   "execution_count": 16,
   "id": "plastic-samba",
   "metadata": {},
   "outputs": [],
   "source": [
    "def groups_bin_stat(groups, target):\n",
    "    groups_bin = pd.DataFrame({'groups_0%': groups[target].quantile(0.0)})\n",
    "    groups_bin['groups_25%'] = groups[target].quantile(0.25)\n",
    "    groups_bin['groups_50%'] = groups[target].quantile(0.50)\n",
    "    groups_bin['groups_75%'] = groups[target].quantile(0.75)\n",
    "    groups_bin['groups_100%'] = groups[target].quantile(1.0)\n",
    "    groups_bin.reset_index(inplace=True)\n",
    "    return groups_bin\n",
    "\n",
    "groups_bin = groups_bin_stat(groups, 'salary')"
   ]
  },
  {
   "cell_type": "code",
   "execution_count": 17,
   "id": "presidential-trust",
   "metadata": {},
   "outputs": [],
   "source": [
    "# keys = col feature name\n",
    "def merge_df(df1, df2, keys, fillna=False):\n",
    "    df1 = pd.merge(df1, df2, on=keys, how='left')\n",
    "    if fillna:\n",
    "        df1.fillna(0, inplace=True)\n",
    "    return df1"
   ]
  },
  {
   "cell_type": "code",
   "execution_count": 18,
   "id": "express-remains",
   "metadata": {},
   "outputs": [
    {
     "name": "stdout",
     "output_type": "stream",
     "text": [
      "(999995, 17)\n",
      "(1000000, 16)\n"
     ]
    }
   ],
   "source": [
    "new_features = [groups_df, groups_bin]\n",
    "\n",
    "for i in new_features:\n",
    "    encoded_df = merge_df(encoded_df, i, cat_feature[2:], fillna=True)\n",
    "    test_ec_df = merge_df(test_ec_df, i, cat_feature[2:], fillna=True)\n",
    "    \n",
    "print(encoded_df.shape)\n",
    "print(test_ec_df.shape)"
   ]
  },
  {
   "cell_type": "markdown",
   "id": "valued-hundred",
   "metadata": {},
   "source": [
    " <a id=\"3\"></a>\n",
    "## Model tuning"
   ]
  },
  {
   "cell_type": "markdown",
   "id": "artistic-roman",
   "metadata": {},
   "source": [
    "* Using RandomixedSearchCV first and look for best range of hyperparameters for models\n",
    "* Using GridSearchCV after and look for the best hyperparemeters for models"
   ]
  },
  {
   "cell_type": "code",
   "execution_count": null,
   "id": "informed-purse",
   "metadata": {},
   "outputs": [],
   "source": [
    "# tuning model parameters to get a better model\n",
    "from sklearn.model_selection import RandomizedSearchCV\n",
    "\n",
    "n_estimators = [int(x) for x in np.linspace(0,100,num=20)]\n",
    "max_features = [float(x/(X_encoded.shape[0])) for x in np.linspace(0,80, num=20)]\n",
    "max_depth = [int(x) for x in np.linspace(0,80, num=20)]\n",
    "max_depth.append(None)\n",
    "max_depth_gbr = [int(x) for x in np.linspace(0,25, num=20)]\n",
    "max_depth_gbr.append(None)\n",
    "min_samples_split = [int(x) for x in np.linspace(0,100,num=20)]\n",
    "random_grid = {'n_estimators':n_estimators, 'max_features':max_features, 'max_depth':max_depth, 'min_samples_split':min_samples_split}\n",
    "random_grid_gbr = {'n_estimators':n_estimators, 'max_depth':max_depth_gbr}\n",
    "\n",
    "# check parameters\n",
    "print(random_grid_gbr)"
   ]
  },
  {
   "cell_type": "code",
   "execution_count": null,
   "id": "rental-adaptation",
   "metadata": {},
   "outputs": [],
   "source": [
    "# fitting models to get the best params\n",
    "rf_ec = RandomForestRegressor()\n",
    "gbr_ec = GradientBoostingRegressor()\n",
    "rsCV_ec = RandomizedSearchCV(gbr_ec, param_distributions = random_grid_gbr, pre_dispatch=4, cv=2, verbose=1, random_state=1, n_jobs=4)\n",
    "rsCV_ec.fit(X_encoded, y_encoded)\n",
    "print(rsCV_ec.best_params_)"
   ]
  },
  {
   "cell_type": "code",
   "execution_count": null,
   "id": "following-fishing",
   "metadata": {},
   "outputs": [],
   "source": [
    "from sklearn.model_selection import GridSearchCV\n",
    "\n",
    "param_grid = {'n_estimators': [55, 60], \n",
    "             'max_features': [10, 11],\n",
    "             'max_depth': [10, 20],\n",
    "             'min_samples_split': [38, 40]}\n",
    "\n",
    "param_grid_gbr = {'n_estimators': [80, 90], \n",
    "             'max_depth': [4, 5]}"
   ]
  },
  {
   "cell_type": "code",
   "execution_count": null,
   "id": "mighty-medicare",
   "metadata": {},
   "outputs": [],
   "source": [
    "rf_gid = RandomForestRegressor()\n",
    "gbr_gid = GradientBoostingRegressor()\n",
    "grid = GridSearchCV(gbr_gid, param_grid= param_grid_gbr, cv=3, verbose=2, n_jobs=4)\n",
    "grid.fit(X_encoded, y_encoded)\n",
    "print('The best hyperparameters are: ', grid.best_params_)"
   ]
  },
  {
   "cell_type": "markdown",
   "id": "straight-harbor",
   "metadata": {},
   "source": [
    " <a id=\"4\"></a>\n",
    "## Model evaluation"
   ]
  },
  {
   "cell_type": "markdown",
   "id": "improving-weapon",
   "metadata": {},
   "source": [
    "### Using cross validation evaluate models performance by MSE"
   ]
  },
  {
   "cell_type": "code",
   "execution_count": 19,
   "id": "north-choir",
   "metadata": {},
   "outputs": [],
   "source": [
    "# using label encoding for Random Forest Regressor and Gradient Boosting Regressor modeling\n",
    "# using cross validation score to determine which model perform the best\n",
    "\n",
    "def train_model(model, feature_df, target_df, num_procs, mean_mse, cv_std):\n",
    "    neg_mse = cross_val_score(model, feature_df, target_df, cv=3, n_jobs=num_procs, scoring='neg_mean_squared_error')\n",
    "    mean_mse[model] = -1.0*np.mean(neg_mse)\n",
    "    cv_std[model] = np.std(neg_mse)\n",
    "\n",
    "# print out summary and compare results\n",
    "def print_summary(model, mean_mse, cv_std):\n",
    "    print('\\nModel:\\n', model)\n",
    "    print('Average MSE:\\n', mean_mse[model])\n",
    "    print('Standard deviation during CV:\\n', cv_std[model])\n",
    "\n",
    "models = []\n",
    "mean_mse = {}\n",
    "cv_std= {}\n",
    "num_procs = 4\n",
    "verbose_level = 0\n",
    "\n",
    "reg = LinearRegression()\n",
    "reg_poly = make_pipeline(PolynomialFeatures(), LinearRegression())\n",
    "reg_scaled = make_pipeline(StandardScaler(), LinearRegression())\n",
    "rf = RandomForestRegressor(n_estimators=55, n_jobs=num_procs, max_depth=10, min_samples_split=38,max_features=11, verbose=verbose_level,\n",
    "                          random_state=1)\n",
    "gbr = GradientBoostingRegressor(n_estimators=90, max_depth=5, loss='ls', verbose=verbose_level,\n",
    "                               random_state=1)\n",
    "\n",
    "models.extend([reg, reg_poly, reg_scaled, rf, gbr])"
   ]
  },
  {
   "cell_type": "code",
   "execution_count": 21,
   "id": "mysterious-course",
   "metadata": {},
   "outputs": [],
   "source": [
    "# using label encoder feature for input \n",
    "\n",
    "# label encoding train df\n",
    "X_encoded = encoded_df.drop(['salary'], axis=1)\n",
    "y_encoded = encoded_df['salary']"
   ]
  },
  {
   "cell_type": "code",
   "execution_count": 22,
   "id": "attached-metallic",
   "metadata": {},
   "outputs": [
    {
     "name": "stdout",
     "output_type": "stream",
     "text": [
      "\n",
      "Model:\n",
      " LinearRegression()\n",
      "Average MSE:\n",
      " 370.95993513425964\n",
      "Standard deviation during CV:\n",
      " 0.5891755997113964\n",
      "\n",
      "Model:\n",
      " Pipeline(steps=[('polynomialfeatures', PolynomialFeatures()),\n",
      "                ('linearregression', LinearRegression())])\n",
      "Average MSE:\n",
      " 353.4224992200339\n",
      "Standard deviation during CV:\n",
      " 0.43102956729434705\n",
      "\n",
      "Model:\n",
      " Pipeline(steps=[('standardscaler', StandardScaler()),\n",
      "                ('linearregression', LinearRegression())])\n",
      "Average MSE:\n",
      " 370.95993513425964\n",
      "Standard deviation during CV:\n",
      " 0.5891755997113329\n",
      "\n",
      "Model:\n",
      " RandomForestRegressor(max_depth=10, max_features=11, min_samples_split=38,\n",
      "                      n_estimators=55, n_jobs=4, random_state=1)\n",
      "Average MSE:\n",
      " 357.2796779202791\n",
      "Standard deviation during CV:\n",
      " 0.39630811171762353\n",
      "\n",
      "Model:\n",
      " GradientBoostingRegressor(max_depth=5, n_estimators=90, random_state=1)\n",
      "Average MSE:\n",
      " 354.90642180401755\n",
      "Standard deviation during CV:\n",
      " 0.392642078460288\n"
     ]
    }
   ],
   "source": [
    "# testing model performance\n",
    "for i in models:\n",
    "    train_model(i, X_encoded, y_encoded, num_procs, mean_mse, cv_std)\n",
    "    print_summary(i, mean_mse, cv_std)"
   ]
  },
  {
   "cell_type": "markdown",
   "id": "exciting-blood",
   "metadata": {},
   "source": [
    "### Select the best model"
   ]
  },
  {
   "cell_type": "code",
   "execution_count": 23,
   "id": "indirect-creativity",
   "metadata": {},
   "outputs": [
    {
     "name": "stdout",
     "output_type": "stream",
     "text": [
      "Pipeline(steps=[('polynomialfeatures', PolynomialFeatures()),\n",
      "                ('linearregression', LinearRegression())])\n"
     ]
    }
   ],
   "source": [
    "# choice the best model\n",
    "def best_model(mean_mse):\n",
    "    return min(mean_mse, key=mean_mse.get)\n",
    "\n",
    "best_model = best_model(mean_mse)\n",
    "print(best_model)"
   ]
  },
  {
   "cell_type": "markdown",
   "id": "creative-trade",
   "metadata": {},
   "source": [
    " <a id=\"5\"></a>\n",
    "### Examine feature importances"
   ]
  },
  {
   "cell_type": "code",
   "execution_count": 24,
   "id": "rational-rochester",
   "metadata": {},
   "outputs": [
    {
     "name": "stdout",
     "output_type": "stream",
     "text": [
      "                     importances\n",
      "features                        \n",
      "groups_mean             0.620891\n",
      "yearsExperience         0.185851\n",
      "milesFromMetropolis     0.128117\n",
      "groups_25%              0.036448\n",
      "groups_50%              0.010584\n",
      "groups_75%              0.006846\n",
      "groups_median           0.006804\n",
      "groups_0%               0.001628\n",
      "groups_min              0.001445\n",
      "groups_std              0.001205\n",
      "groups_100%             0.000072\n",
      "groups_max              0.000070\n",
      "major                   0.000014\n",
      "jobType                 0.000013\n",
      "industry                0.000007\n",
      "degree                  0.000006\n"
     ]
    }
   ],
   "source": [
    "# use gbr model to check every train feature's importances\n",
    "def create_feature_importance(model, train_df):\n",
    "    importances = model.feature_importances_\n",
    "    feature_importances_df = pd.DataFrame({'features': train_df.columns, 'importances': importances})\n",
    "    feature_importances_df.sort_values(by='importances', ascending = False, inplace=True)\n",
    "    feature_importances_df.set_index('features', inplace=True, drop=True)\n",
    "    return feature_importances_df\n",
    "\n",
    "model_gbr = gbr\n",
    "gbr.fit(X_encoded, y_encoded)\n",
    "feature_importance = create_feature_importance(gbr, X_encoded)"
   ]
  },
  {
   "cell_type": "code",
   "execution_count": 28,
   "id": "sublime-tender",
   "metadata": {},
   "outputs": [
    {
     "data": {
      "image/png": "[encoded data removed]",
      "text/plain": [
       "<Figure size 1080x432 with 1 Axes>"
      ]
     },
     "metadata": {
      "needs_background": "light"
     },
     "output_type": "display_data"
    }
   ],
   "source": [
    "def plot_feature_importance(fm_df):\n",
    "    fm_df.plot.bar(figsize=(15,6))\n",
    "    plt.xticks(rotation=45)\n",
    "    plt.show()\n",
    "    \n",
    "plot_feature_importance(feature_importance)"
   ]
  },
  {
   "cell_type": "markdown",
   "id": "enclosed-possibility",
   "metadata": {},
   "source": [
    " <a id=\"6\"></a>\n",
    "## Conclusion"
   ]
  },
  {
   "cell_type": "markdown",
   "id": "fresh-behavior",
   "metadata": {},
   "source": [
    "> **Job types:**\n",
    ">> 1. The strongest correlation is **job type**, the job type which salary mean below 100 is **25%** of all individuals, only a job role as **junior** or **janitor**.\n",
    ">> 2. Compare the highest and lowest salary avg  in job type. (**70** vs **145**)\n",
    ">> 3. The top 3 high salary industry is **oil, financa and web**, the average salary is over **120**, even the job role as a junior in these 3 industry, the lowest income still **higher** than other industries at same level.\n",
    ">\n",
    "> **Degrees:**\n",
    ">> The lowest salary with the degree level at **None** or **high school** is around **100**.\n",
    ">\n",
    ">**Major:**\n",
    ">> Any individual with major, the salary is **1.3** times higher than without it.\n",
    ">\n",
    ">**Years of experience**\n",
    ">> Years of experience is 12 years, the average salary of less than 12 yrs is around **100**, if over is around **130**, the average is **1.3** times more.\n",
    ">\n",
    ">**Miles from metropolis:**\n",
    ">> Average distance is 49.5 miles, the average salary below it is **126**, if over is **106**, the average is **1.2** times less if workplace distance over average miles.\n",
    ">\n",
    ">**Grouping categorical features:**\n",
    ">> 1. New feature **group mean** become the most important feature for train dataset.\n",
    ">>> Job types **BELOW** group mean: **60%**(other roles) vs **40%**(Junior & Janitor).                                     \n",
    ">>> Job types **ABOVE** group mean: **93%**(other roles) vs **7%**(Junior & Janitor).\n",
    ">> 2. Compare origin features, only **years of experience** and **milesFromMetropolis** have higher importance scores."
   ]
  }
 ],
 "metadata": {
  "kernelspec": {
   "display_name": "Python 3",
   "language": "python",
   "name": "python3"
  },
  "language_info": {
   "codemirror_mode": {
    "name": "ipython",
    "version": 3
   },
   "file_extension": ".py",
   "mimetype": "text/x-python",
   "name": "python",
   "nbconvert_exporter": "python",
   "pygments_lexer": "ipython3",
   "version": "3.8.3"
  }
 },
 "nbformat": 4,
 "nbformat_minor": 5
}
